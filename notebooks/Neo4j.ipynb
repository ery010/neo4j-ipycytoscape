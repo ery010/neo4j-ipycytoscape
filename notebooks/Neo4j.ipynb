{
 "cells": [
  {
   "cell_type": "code",
   "execution_count": 1,
   "metadata": {},
   "outputs": [],
   "source": [
    "import os\n",
    "import pandas as pd\n",
    "from py2neo import Graph"
   ]
  },
  {
   "cell_type": "code",
   "execution_count": 2,
   "metadata": {},
   "outputs": [
    {
     "name": "stdout",
     "output_type": "stream",
     "text": [
      "/Users/peter/Library/Application Support/Neo4j Desktop/Application/neo4jDatabases/database-4af96121-2328-4e2f-ba60-6d8b728a26d5/installation-4.0.3\n"
     ]
    }
   ],
   "source": [
    "NEO4J_HOME = os.getenv('NEO4J_HOME')\n",
    "print(NEO4J_HOME)"
   ]
  },
  {
   "cell_type": "code",
   "execution_count": 3,
   "metadata": {},
   "outputs": [],
   "source": [
    "graph = Graph(password=\"neo4jbinder\")"
   ]
  },
  {
   "cell_type": "code",
   "execution_count": 4,
   "metadata": {},
   "outputs": [],
   "source": [
    "graph.delete_all()"
   ]
  },
  {
   "cell_type": "code",
   "execution_count": 5,
   "metadata": {},
   "outputs": [],
   "source": [
    "from py2neo import Node\n",
    "\n",
    "nicole = Node(\"Person\", name=\"Nicole\", age=24)\n",
    "drew = Node(\"Person\", name=\"Drew\", age=20)\n",
    "\n",
    "mtdew = Node(\"Drink\", name=\"Mountain Dew\", calories=9000)\n",
    "cokezero = Node(\"Drink\", name=\"Coke Zero\", calories=0)\n",
    "\n",
    "coke = Node(\"Manufacturer\", name=\"Coca Cola\", url=\"https://www.coca-cola.com/\")\n",
    "pepsi = Node(\"Manufacturer\", name=\"Pepsi\", url=\"https://www.pepsi.com/\")\n",
    "\n",
    "graph.create(nicole | drew | mtdew | cokezero | coke | pepsi)"
   ]
  },
  {
   "cell_type": "code",
   "execution_count": 6,
   "metadata": {},
   "outputs": [],
   "source": [
    "from py2neo import Relationship\n",
    "\n",
    "graph.create(Relationship(nicole, \"LIKES\", cokezero))\n",
    "graph.create(Relationship(nicole, \"LIKES\", mtdew))\n",
    "graph.create(Relationship(drew, \"LIKES\", mtdew))\n",
    "graph.create(Relationship(coke, \"MAKES\", cokezero))\n",
    "graph.create(Relationship(pepsi, \"MAKES\", mtdew))"
   ]
  },
  {
   "cell_type": "markdown",
   "metadata": {},
   "source": [
    "### List nodes"
   ]
  },
  {
   "cell_type": "code",
   "execution_count": 7,
   "metadata": {},
   "outputs": [],
   "source": [
    "query = \"\"\"\n",
    "MATCH (n)\n",
    "RETURN id(n) as id, n\n",
    "\"\"\""
   ]
  },
  {
   "cell_type": "code",
   "execution_count": 8,
   "metadata": {
    "scrolled": true
   },
   "outputs": [
    {
     "data": {
      "text/plain": [
       "[{'id': 0, 'n': (_0:Person {age: 24, name: 'Nicole'})},\n",
       " {'id': 1, 'n': (_1:Person {age: 20, name: 'Drew'})},\n",
       " {'id': 2, 'n': (_2:Drink {calories: 9000, name: 'Mountain Dew'})},\n",
       " {'id': 3, 'n': (_3:Drink {calories: 0, name: 'Coke Zero'})},\n",
       " {'id': 4,\n",
       "  'n': (_4:Manufacturer {name: 'Coca Cola', url: 'https://www.coca-cola.com/'})},\n",
       " {'id': 5,\n",
       "  'n': (_5:Manufacturer {name: 'Pepsi', url: 'https://www.pepsi.com/'})}]"
      ]
     },
     "execution_count": 8,
     "metadata": {},
     "output_type": "execute_result"
    }
   ],
   "source": [
    "graph.run(query).data()"
   ]
  },
  {
   "cell_type": "markdown",
   "metadata": {},
   "source": [
    "### List relationships"
   ]
  },
  {
   "cell_type": "code",
   "execution_count": 9,
   "metadata": {},
   "outputs": [],
   "source": [
    "query = \"\"\"\n",
    "MATCH (n)-[r]->(m)\n",
    "RETURN id(n) as source, id(m) as target, type(r) as edge\n",
    "\"\"\""
   ]
  },
  {
   "cell_type": "code",
   "execution_count": 10,
   "metadata": {
    "scrolled": true
   },
   "outputs": [
    {
     "data": {
      "text/plain": [
       "[{'source': 5, 'target': 2, 'edge': 'MAKES'},\n",
       " {'source': 1, 'target': 2, 'edge': 'LIKES'},\n",
       " {'source': 0, 'target': 2, 'edge': 'LIKES'},\n",
       " {'source': 4, 'target': 3, 'edge': 'MAKES'},\n",
       " {'source': 0, 'target': 3, 'edge': 'LIKES'}]"
      ]
     },
     "execution_count": 10,
     "metadata": {},
     "output_type": "execute_result"
    }
   ],
   "source": [
    "graph.run(query).data()"
   ]
  },
  {
   "cell_type": "markdown",
   "metadata": {},
   "source": [
    "### Create ipycytoscape visualization\n",
    "1. Color by node label (Person, Drink, Manufacturer)\n",
    "2. Display name of each node (Nicole, Drew, ...)\n",
    "3. Display name of each relationship (LIKES, MAKES)\n",
    "4. Draw arrow from source -> target\n",
    "5. Show properties of a node\n",
    "6. Click on url"
   ]
  },
  {
   "cell_type": "code",
   "execution_count": null,
   "metadata": {},
   "outputs": [],
   "source": []
  },
  {
   "cell_type": "code",
   "execution_count": null,
   "metadata": {},
   "outputs": [],
   "source": []
  }
 ],
 "metadata": {
  "kernelspec": {
   "display_name": "Python 3",
   "language": "python",
   "name": "python3"
  },
  "language_info": {
   "codemirror_mode": {
    "name": "ipython",
    "version": 3
   },
   "file_extension": ".py",
   "mimetype": "text/x-python",
   "name": "python",
   "nbconvert_exporter": "python",
   "pygments_lexer": "ipython3",
   "version": "3.8.2"
  }
 },
 "nbformat": 4,
 "nbformat_minor": 4
}
